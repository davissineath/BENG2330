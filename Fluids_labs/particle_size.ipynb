{
 "cells": [
  {
   "cell_type": "code",
   "execution_count": 1,
   "metadata": {},
   "outputs": [],
   "source": [
    "import pandas as pd\n",
    "import matplotlib.pyplot as plt"
   ]
  },
  {
   "cell_type": "code",
   "execution_count": 2,
   "metadata": {},
   "outputs": [
    {
     "data": {
      "text/html": [
       "<div>\n",
       "<style scoped>\n",
       "    .dataframe tbody tr th:only-of-type {\n",
       "        vertical-align: middle;\n",
       "    }\n",
       "\n",
       "    .dataframe tbody tr th {\n",
       "        vertical-align: top;\n",
       "    }\n",
       "\n",
       "    .dataframe thead th {\n",
       "        text-align: right;\n",
       "    }\n",
       "</style>\n",
       "<table border=\"1\" class=\"dataframe\">\n",
       "  <thead>\n",
       "    <tr style=\"text-align: right;\">\n",
       "      <th></th>\n",
       "      <th>Number</th>\n",
       "      <th>Screen Size</th>\n",
       "      <th>Mo</th>\n",
       "      <th>Mf</th>\n",
       "      <th>mass</th>\n",
       "      <th>Xi</th>\n",
       "      <th>Di</th>\n",
       "    </tr>\n",
       "  </thead>\n",
       "  <tbody>\n",
       "    <tr>\n",
       "      <th>0</th>\n",
       "      <td>40.0</td>\n",
       "      <td>425.0</td>\n",
       "      <td>0.370</td>\n",
       "      <td>0.381</td>\n",
       "      <td>0.011</td>\n",
       "      <td>0.111111</td>\n",
       "      <td>425.0</td>\n",
       "    </tr>\n",
       "    <tr>\n",
       "      <th>1</th>\n",
       "      <td>60.0</td>\n",
       "      <td>250.0</td>\n",
       "      <td>0.347</td>\n",
       "      <td>0.387</td>\n",
       "      <td>0.040</td>\n",
       "      <td>0.404040</td>\n",
       "      <td>337.5</td>\n",
       "    </tr>\n",
       "    <tr>\n",
       "      <th>2</th>\n",
       "      <td>80.0</td>\n",
       "      <td>180.0</td>\n",
       "      <td>0.336</td>\n",
       "      <td>0.364</td>\n",
       "      <td>0.028</td>\n",
       "      <td>0.282828</td>\n",
       "      <td>265.0</td>\n",
       "    </tr>\n",
       "    <tr>\n",
       "      <th>3</th>\n",
       "      <td>100.0</td>\n",
       "      <td>150.0</td>\n",
       "      <td>0.331</td>\n",
       "      <td>0.338</td>\n",
       "      <td>0.007</td>\n",
       "      <td>0.070707</td>\n",
       "      <td>165.0</td>\n",
       "    </tr>\n",
       "    <tr>\n",
       "      <th>4</th>\n",
       "      <td>140.0</td>\n",
       "      <td>106.0</td>\n",
       "      <td>0.315</td>\n",
       "      <td>0.318</td>\n",
       "      <td>0.003</td>\n",
       "      <td>0.030303</td>\n",
       "      <td>128.0</td>\n",
       "    </tr>\n",
       "    <tr>\n",
       "      <th>5</th>\n",
       "      <td>170.0</td>\n",
       "      <td>90.0</td>\n",
       "      <td>0.314</td>\n",
       "      <td>0.323</td>\n",
       "      <td>0.009</td>\n",
       "      <td>0.090909</td>\n",
       "      <td>98.0</td>\n",
       "    </tr>\n",
       "    <tr>\n",
       "      <th>6</th>\n",
       "      <td>0.0</td>\n",
       "      <td>0.0</td>\n",
       "      <td>0.374</td>\n",
       "      <td>0.375</td>\n",
       "      <td>0.001</td>\n",
       "      <td>0.010101</td>\n",
       "      <td>45.0</td>\n",
       "    </tr>\n",
       "  </tbody>\n",
       "</table>\n",
       "</div>"
      ],
      "text/plain": [
       "   Number  Screen Size     Mo     Mf   mass        Xi     Di\n",
       "0    40.0        425.0  0.370  0.381  0.011  0.111111  425.0\n",
       "1    60.0        250.0  0.347  0.387  0.040  0.404040  337.5\n",
       "2    80.0        180.0  0.336  0.364  0.028  0.282828  265.0\n",
       "3   100.0        150.0  0.331  0.338  0.007  0.070707  165.0\n",
       "4   140.0        106.0  0.315  0.318  0.003  0.030303  128.0\n",
       "5   170.0         90.0  0.314  0.323  0.009  0.090909   98.0\n",
       "6     0.0          0.0  0.374  0.375  0.001  0.010101   45.0"
      ]
     },
     "execution_count": 2,
     "metadata": {},
     "output_type": "execute_result"
    }
   ],
   "source": [
    "data = pd.DataFrame(\n",
    "    data = [[40, 60, 80, 100, 140, 170, 0], [425, 250, 180, 150, 106, 90, 0], [0.37, 0.347, 0.336, 0.331, 0.315, 0.314, 0.374], [0.381, 0.387, 0.364, 0.338, 0.318, 0.323, 0.375]]\n",
    "    )\n",
    "data = data.T\n",
    "data = data.rename(columns = {0:\"Number\", 1:\"Screen Size\", 2: \"Mo\", 3:\"Mf\"})\n",
    "data['mass'] = data['Mf'] - data['Mo']\n",
    "total_mass = data['mass'].sum()\n",
    "data['Xi'] = data['mass'] / total_mass\n",
    "data['Di'] = [425, (425+250)/2, (250+280)/2, (180+150)/2, (150+106)/2, (106+90)/2, 90/2]\n",
    "data"
   ]
  },
  {
   "cell_type": "code",
   "execution_count": 3,
   "metadata": {},
   "outputs": [
    {
     "data": {
      "image/png": "[encoded data removed]",
      "text/plain": [
       "<Figure size 640x480 with 1 Axes>"
      ]
     },
     "metadata": {},
     "output_type": "display_data"
    }
   ],
   "source": [
    "plt.bar(data['Di'], data['Xi'], width = 15, tick_label=data['Di'])\n",
    "plt.xticks(rotation=45, ha='right')\n",
    "plt.xlabel(\"Particle Size (micro-meters)\")\n",
    "plt.ylabel(\"Mass Fraction\")\n",
    "plt.show()"
   ]
  },
  {
   "cell_type": "code",
   "execution_count": 5,
   "metadata": {},
   "outputs": [
    {
     "name": "stdout",
     "output_type": "stream",
     "text": [
      "The mean particle distribution is 230.24222394448105 micrometers\n"
     ]
    }
   ],
   "source": [
    "# mean particle distirbution \n",
    "denom = 0 \n",
    "for i in range(len(data)):\n",
    "    x = data.loc[i, 'Xi']\n",
    "    d = data.loc[i, 'Di']\n",
    "    denom = denom + (x/d)\n",
    "\n",
    "Dp = 1/denom\n",
    "print(f'The mean particle distribution is {Dp} micrometers')"
   ]
  }
 ],
 "metadata": {
  "kernelspec": {
   "display_name": "math4610",
   "language": "python",
   "name": "python3"
  },
  "language_info": {
   "codemirror_mode": {
    "name": "ipython",
    "version": 3
   },
   "file_extension": ".py",
   "mimetype": "text/x-python",
   "name": "python",
   "nbconvert_exporter": "python",
   "pygments_lexer": "ipython3",
   "version": "3.12.7"
  }
 },
 "nbformat": 4,
 "nbformat_minor": 2
}
